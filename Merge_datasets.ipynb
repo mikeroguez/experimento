{
  "nbformat": 4,
  "nbformat_minor": 0,
  "metadata": {
    "colab": {
      "provenance": [],
      "mount_file_id": "1-pJyQr4lelAqZ4KICuo4szuzNL5UyNOw",
      "authorship_tag": "ABX9TyPgjbqY4RNNaGz19h9PMImF",
      "include_colab_link": true
    },
    "kernelspec": {
      "name": "python3",
      "display_name": "Python 3"
    },
    "language_info": {
      "name": "python"
    }
  },
  "cells": [
    {
      "cell_type": "markdown",
      "metadata": {
        "id": "view-in-github",
        "colab_type": "text"
      },
      "source": [
        "<a href=\"https://colab.research.google.com/github/mikeroguez/experimento/blob/main/Merge_datasets.ipynb\" target=\"_parent\"><img src=\"https://colab.research.google.com/assets/colab-badge.svg\" alt=\"Open In Colab\"/></a>"
      ]
    },
    {
      "cell_type": "code",
      "execution_count": 2,
      "metadata": {
        "colab": {
          "base_uri": "https://localhost:8080/"
        },
        "id": "iAhPiBtMepPv",
        "outputId": "21c8d418-70b3-4645-f5da-053eb5a7ee41"
      },
      "outputs": [
        {
          "output_type": "stream",
          "name": "stdout",
          "text": [
            "Dataset consolidado guardado en /content/drive/MyDrive/Doctorado/Experimentos/Datos/DSv4.0/2. Para unir/merged_dataset.csv\n"
          ]
        }
      ],
      "source": [
        "# Importar bibliotecas necesarias\n",
        "import pandas as pd\n",
        "\n",
        "# Cargar los datasets desde archivos locales\n",
        "assignments_path = \"/content/drive/MyDrive/Doctorado/Experimentos/Datos/DSv4.0/1. Para tratar/tareas/tareas_consolidado_cleaned_sin_cursos_reutilizados.csv\"\n",
        "exams_path = \"/content/drive/MyDrive/Doctorado/Experimentos/Datos/DSv4.0/1. Para tratar/examenes/examenes_consolidados.csv\"\n",
        "access_path = \"/content/drive/MyDrive/Doctorado/Experimentos/Datos/DSv4.0/1. Para tratar/accesos/accesos_consolidado_cleaned.csv\"\n",
        "forums_path = \"/content/drive/MyDrive/Doctorado/Experimentos/Datos/DSv4.0/1. Para tratar/foros/foros_consolidado.csv\"\n",
        "\n",
        "assignments_df = pd.read_csv(assignments_path)\n",
        "exams_df = pd.read_csv(exams_path)\n",
        "access_df = pd.read_csv(access_path)\n",
        "forums_df = pd.read_csv(forums_path)\n",
        "\n",
        "# 1. Integrar \"Exams\" a \"Assignments\" basado en groupKey y email\n",
        "merged_df = pd.merge(assignments_df, exams_df, how=\"left\", on=[\"groupKey\", \"email\"])\n",
        "\n",
        "# 2. Integrar \"Access\" a la base intermedia usando curso, groupKey y email\n",
        "merged_df = pd.merge(merged_df, access_df, how=\"left\", on=[\"curso\", \"groupKey\", \"email\"])\n",
        "\n",
        "# 3. Integrar \"Forums\" a la base intermedia usando curso, groupKey y email\n",
        "merged_df = pd.merge(merged_df, forums_df, how=\"left\", on=[\"curso\", \"groupKey\", \"email\"])\n",
        "\n",
        "# 4. Exportar el dataset consolidado\n",
        "output_path = \"/content/drive/MyDrive/Doctorado/Experimentos/Datos/DSv4.0/2. Para unir/merged_dataset.csv\"\n",
        "merged_df.to_csv(output_path, index=False)\n",
        "\n",
        "print(f\"Dataset consolidado guardado en {output_path}\")"
      ]
    },
    {
      "cell_type": "markdown",
      "source": [
        "**2. Limpieza de examenes**"
      ],
      "metadata": {
        "id": "fDy4hn4M_ys6"
      }
    },
    {
      "cell_type": "code",
      "source": [
        "import pandas as pd\n",
        "\n",
        "# Definir rutas de entrada y salida\n",
        "input_path = \"/content/drive/MyDrive/Doctorado/Experimentos/Datos/DSv4.0/2. Para unir/merged_dataset.csv\"\n",
        "output_path = \"/content/drive/MyDrive/Doctorado/Experimentos/Datos/DSv4.0/2. Para unir/merged_exam_cleaned_dataset.csv\"\n",
        "\n",
        "# Cargar el dataset\n",
        "df = pd.read_csv(input_path)\n",
        "\n",
        "# Contar estudiantes con datos de exámenes por curso\n",
        "exam_distribution = df.groupby(\"groupKey\")[\"total_assigned_exams\"].count()\n",
        "total_students_per_group = df.groupby(\"groupKey\")[\"email\"].count()\n",
        "\n",
        "# Identificar los casos\n",
        "courses_without_exams = exam_distribution[exam_distribution == 0].index  # Caso 1\n",
        "courses_with_all_exams = exam_distribution[exam_distribution == total_students_per_group].index  # Caso 2\n",
        "courses_some_missing_exams = exam_distribution[\n",
        "    (exam_distribution / total_students_per_group >= 0.95) & (exam_distribution / total_students_per_group < 1)\n",
        "].index  # Caso 3\n",
        "courses_few_exams = exam_distribution[\n",
        "    (exam_distribution / total_students_per_group <= 0.05) & (exam_distribution / total_students_per_group > 0)\n",
        "].index  # Caso 4\n",
        "\n",
        "# Imprimir conteo de cada caso\n",
        "print(\"\\nDistribución de Casos por Curso:\")\n",
        "print(f\"Caso 1 - Cursos sin exámenes: {len(courses_without_exams)}\")\n",
        "print(f\"Caso 2 - Cursos donde todos tienen exámenes: {len(courses_with_all_exams)}\")\n",
        "print(f\"Caso 3 - Cursos con solo 5% alumnos sin exámenes: {len(courses_some_missing_exams)}\")\n",
        "print(f\"Caso 4 - Cursos con solo 95% alumnos sin exámenes: {len(courses_few_exams)}\")\n",
        "\n",
        "# Crear la variable \"no_exam_data\" basado en total_assigned_exams\n",
        "df[\"no_exam_data\"] = df[\"total_assigned_exams\"].isna().astype(int)\n",
        "\n",
        "# Guardar el dataset limpio\n",
        "df.to_csv(output_path, index=False)\n",
        "\n",
        "# Confirmación de guardado\n",
        "print(f\"\\nDataset limpio guardado en: {output_path}\")\n"
      ],
      "metadata": {
        "colab": {
          "base_uri": "https://localhost:8080/"
        },
        "id": "FLWPtKpb_1kY",
        "outputId": "a67febc5-0c01-4300-e83d-2299377e4170"
      },
      "execution_count": 6,
      "outputs": [
        {
          "output_type": "stream",
          "name": "stdout",
          "text": [
            "\n",
            "Distribución de Casos por Curso:\n",
            "Caso 1 - Cursos sin exámenes: 23\n",
            "Caso 2 - Cursos donde todos tienen exámenes: 130\n",
            "Caso 3 - Cursos con solo 5% alumnos sin exámenes: 30\n",
            "Caso 4 - Cursos con solo 95% alumnos sin exámenes: 1\n",
            "\n",
            "Dataset limpio guardado en: /content/drive/MyDrive/Doctorado/Experimentos/Datos/DSv4.0/2. Para unir/merged_exam_cleaned_dataset.csv\n"
          ]
        }
      ]
    }
  ]
}