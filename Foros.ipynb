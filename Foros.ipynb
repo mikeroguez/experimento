{
  "nbformat": 4,
  "nbformat_minor": 0,
  "metadata": {
    "colab": {
      "provenance": [],
      "mount_file_id": "1-8j-Q8mQDTMjqsNv_lA9asWC7oUOCVDv",
      "authorship_tag": "ABX9TyPwiHvXxg8AiopxqtNidKpM",
      "include_colab_link": true
    },
    "kernelspec": {
      "name": "python3",
      "display_name": "Python 3"
    },
    "language_info": {
      "name": "python"
    }
  },
  "cells": [
    {
      "cell_type": "markdown",
      "metadata": {
        "id": "view-in-github",
        "colab_type": "text"
      },
      "source": [
        "<a href=\"https://colab.research.google.com/github/mikeroguez/experimento/blob/main/Foros.ipynb\" target=\"_parent\"><img src=\"https://colab.research.google.com/assets/colab-badge.svg\" alt=\"Open In Colab\"/></a>"
      ]
    },
    {
      "cell_type": "markdown",
      "source": [
        "**1. Normalización**"
      ],
      "metadata": {
        "id": "8kFKeN32b3db"
      }
    },
    {
      "cell_type": "code",
      "source": [
        "# Importar las librerías necesarias\n",
        "import pandas as pd\n",
        "import html\n",
        "\n",
        "# Cargar el dataset\n",
        "file_path = \"/content/drive/MyDrive/Doctorado/Experimentos/Datos/DSv4.0/1. Para tratar/foros/foros.csv\"\n",
        "data = pd.read_csv(file_path)\n",
        "\n",
        "# Normalizar la columna 'Foro': transformar entidades HTML\n",
        "data['Foro'] = data['Foro'].apply(html.unescape)\n",
        "\n",
        "# Asegurar que la columna 'fecha_y_hora' esté en formato datetime\n",
        "data['fecha_y_hora'] = pd.to_datetime(data['fecha_y_hora'], errors='coerce')\n",
        "\n",
        "\n",
        "# Guardar el dataset normalizado en un nuevo archivo CSV\n",
        "data.to_csv(\"/content/drive/MyDrive/Doctorado/Experimentos/Datos/DSv4.0/1. Para tratar/foros/foros_normalizado.csv\", index=False)"
      ],
      "metadata": {
        "id": "j7Ky_zc1b7xQ"
      },
      "execution_count": 1,
      "outputs": []
    },
    {
      "cell_type": "markdown",
      "source": [
        "**2. Consolidar**"
      ],
      "metadata": {
        "id": "ZJDv73KIcMen"
      }
    },
    {
      "cell_type": "code",
      "source": [
        "# Importar librías necesarias\n",
        "import pandas as pd\n",
        "from google.colab import files\n",
        "\n",
        "# Cargar el dataset normalizado\n",
        "file_path = \"/content/drive/MyDrive/Doctorado/Experimentos/Datos/DSv4.0/1. Para tratar/foros/foros_normalizado.csv\"\n",
        "data = pd.read_csv(file_path)\n",
        "\n",
        "# Asegurarse de que 'fecha_y_hora' esté en formato datetime\n",
        "data['fecha_y_hora'] = pd.to_datetime(data['fecha_y_hora'], errors='coerce')\n",
        "\n",
        "# Agrupar por curso, groupKey y email, y calcular métricas resumidas\n",
        "consolidated_data = data.groupby(['curso', 'groupKey', 'email']).agg(\n",
        "    total_interacciones=('id_foro', 'count'),         # Total de interacciones\n",
        "    foros_unicos=('id_foro', 'nunique'),             # Foros únicos\n",
        "    primer_interaccion=('fecha_y_hora', 'min'),      # Primera interacción\n",
        "    ultima_interaccion=('fecha_y_hora', 'max'),      # Última interacción\n",
        "    rango_tiempo=('fecha_y_hora', lambda x: (x.max() - x.min()).total_seconds() / 60)  # Rango de tiempo en minutos\n",
        ").reset_index()\n",
        "\n",
        "# Guardar el dataset consolidado en un archivo CSV\n",
        "consolidated_data.to_csv(\"/content/drive/MyDrive/Doctorado/Experimentos/Datos/DSv4.0/1. Para tratar/foros/foros_consolidado.csv\", index=False)\n"
      ],
      "metadata": {
        "id": "p_LyccXUcO-Q"
      },
      "execution_count": 2,
      "outputs": []
    }
  ]
}