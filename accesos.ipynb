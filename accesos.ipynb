{
  "nbformat": 4,
  "nbformat_minor": 0,
  "metadata": {
    "colab": {
      "provenance": [],
      "mount_file_id": "1D4j6I_iFygG__1wQfzFYAJiDBU7tb9zO",
      "authorship_tag": "ABX9TyNtwl5eedWQfp1WoynerFkv",
      "include_colab_link": true
    },
    "kernelspec": {
      "name": "python3",
      "display_name": "Python 3"
    },
    "language_info": {
      "name": "python"
    }
  },
  "cells": [
    {
      "cell_type": "markdown",
      "metadata": {
        "id": "view-in-github",
        "colab_type": "text"
      },
      "source": [
        "<a href=\"https://colab.research.google.com/github/mikeroguez/experimento/blob/main/accesos.ipynb\" target=\"_parent\"><img src=\"https://colab.research.google.com/assets/colab-badge.svg\" alt=\"Open In Colab\"/></a>"
      ]
    },
    {
      "cell_type": "markdown",
      "source": [
        "1. Normalizar e imputar"
      ],
      "metadata": {
        "id": "Eb40tl5nIvd1"
      }
    },
    {
      "cell_type": "code",
      "execution_count": 5,
      "metadata": {
        "colab": {
          "base_uri": "https://localhost:8080/"
        },
        "id": "-fFhyC1jGGph",
        "outputId": "f9a2feba-ff73-4837-ef5f-b8a63d5dd40b"
      },
      "outputs": [
        {
          "output_type": "stream",
          "name": "stdout",
          "text": [
            "Archivo procesado y guardado en /content/drive/MyDrive/Doctorado/Experimentos/Datos/DSv4.0/1. Para tratar/accesos/accesos_normalizado.csv\n"
          ]
        }
      ],
      "source": [
        "import pandas as pd\n",
        "from scipy.stats import skew\n",
        "import html\n",
        "import numpy as np\n",
        "\n",
        "# Rutas de entrada y salida\n",
        "INPUT_PATH = \"/content/drive/MyDrive/Doctorado/Experimentos/Datos/DSv4.0/1. Para tratar/accesos/accesos.csv\"\n",
        "OUTPUT_PATH = \"/content/drive/MyDrive/Doctorado/Experimentos/Datos/DSv4.0/1. Para tratar/accesos/accesos_normalizado.csv\"\n",
        "\n",
        "# Cargar datos\n",
        "df = pd.read_csv(INPUT_PATH)\n",
        "\n",
        "# Parsear entidades HTML en la columna dispositivo\n",
        "df[\"dispositivo\"] = df[\"dispositivo\"].apply(html.unescape)\n",
        "\n",
        "# Convertir fechas a formato datetime\n",
        "df[\"fecha_ingreso\"] = pd.to_datetime(df[\"fecha_ingreso\"], errors='coerce')\n",
        "df[\"fecha_egreso\"] = pd.to_datetime(df[\"fecha_egreso\"], errors='coerce')\n",
        "\n",
        "# Filtrar sesiones completas (fecha_egreso no nula y tiempo mayor que 0)\n",
        "sesiones_completas = df[(df[\"fecha_egreso\"].notna()) & (df[\"tiempo\"] > 0)]\n",
        "\n",
        "# Función para calcular skewness evitando errores\n",
        "def safe_skew(x):\n",
        "    if len(x) < 3:  # Si hay menos de 3 valores, no se puede calcular skewness de manera confiable\n",
        "        return np.nan\n",
        "    if x.std() == 0:  # Si todos los valores son idénticos, el skewness debe ser 0\n",
        "        return 0\n",
        "    return skew(x)\n",
        "\n",
        "# Calcular estadísticas por alumno y dispositivo\n",
        "stats = sesiones_completas.groupby([\"email\", \"dispositivo\"])[\"tiempo\"].agg(\n",
        "    media=\"mean\",\n",
        "    mediana=\"median\",\n",
        "    std=\"std\",\n",
        "    skewness=safe_skew,  # Se usa la versión corregida de skew\n",
        "    cv=lambda x: x.std() / x.mean() if x.mean() > 0 else 0\n",
        ").reset_index()\n",
        "\n",
        "# Definir el método de imputación basado en skewness y CV\n",
        "def elegir_metodo(row):\n",
        "    if row[\"cv\"] < 0.5 and (pd.isna(row[\"skewness\"]) or abs(row[\"skewness\"]) < 1):\n",
        "        return \"media\"\n",
        "    else:\n",
        "        return \"mediana\"\n",
        "\n",
        "stats[\"imputation_type\"] = stats.apply(elegir_metodo, axis=1)\n",
        "\n",
        "# Unir las estadísticas al dataset original\n",
        "df = df.merge(stats[[\"email\", \"dispositivo\", \"imputation_type\", \"media\", \"mediana\"]], on=[\"email\", \"dispositivo\"], how=\"left\")\n",
        "\n",
        "# Crear columna is_imputed e inicializar en 0\n",
        "df[\"is_imputed\"] = 0\n",
        "\n",
        "# Función para imputar los valores faltantes directamente en \"tiempo\"\n",
        "def imputar_tiempo(row):\n",
        "    if pd.isna(row[\"fecha_egreso\"]) and row[\"tiempo\"] == 0:\n",
        "        row[\"is_imputed\"] = 1  # Marcar como imputado\n",
        "        if row[\"imputation_type\"] == \"media\":\n",
        "            return row[\"media\"]\n",
        "        elif row[\"imputation_type\"] == \"mediana\":\n",
        "            return row[\"mediana\"]\n",
        "    return row[\"tiempo\"]\n",
        "\n",
        "# Aplicar imputación directamente en \"tiempo\"\n",
        "df[\"tiempo\"] = df.apply(imputar_tiempo, axis=1)\n",
        "\n",
        "# Corregir la columna is_imputed después de la imputación\n",
        "df[\"is_imputed\"] = ((df[\"tiempo\"] > 0) & (pd.isna(df[\"fecha_egreso\"]))).astype(int)\n",
        "\n",
        "# Actualizar la columna fecha_egreso para los datos imputados\n",
        "df[\"fecha_egreso\"] = df.apply(\n",
        "    lambda row: row[\"fecha_ingreso\"] + pd.to_timedelta(row[\"tiempo\"], unit='m')\n",
        "    if row[\"is_imputed\"] == 1 else row[\"fecha_egreso\"],\n",
        "    axis=1\n",
        ")\n",
        "\n",
        "# Guardar el archivo procesado\n",
        "df.to_csv(OUTPUT_PATH, index=False)\n",
        "\n",
        "print(f\"Archivo procesado y guardado en {OUTPUT_PATH}\")\n"
      ]
    }
  ]
}